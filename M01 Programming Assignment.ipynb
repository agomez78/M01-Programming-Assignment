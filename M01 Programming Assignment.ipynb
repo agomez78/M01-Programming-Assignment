{
 "cells": [
  {
   "cell_type": "code",
   "execution_count": 7,
   "id": "d0b0c886",
   "metadata": {
    "scrolled": true
   },
   "outputs": [
    {
     "name": "stdout",
     "output_type": "stream",
     "text": [
      "3600\n"
     ]
    }
   ],
   "source": [
    "# 3.1\n",
    "\n",
    "# Calculate seconds per hour and print result \n",
    "print(60 * 60)\n",
    "\n",
    "# There are 3600 seconds in one hour"
   ]
  },
  {
   "cell_type": "code",
   "execution_count": 8,
   "id": "3a1bc5b2",
   "metadata": {},
   "outputs": [
    {
     "name": "stdout",
     "output_type": "stream",
     "text": [
      "3600\n"
     ]
    }
   ],
   "source": [
    "# 3.2\n",
    "\n",
    "# Calculate seconds per hour\n",
    "seconds_per_hour = 60 * 60\n",
    "\n",
    "# Print result\n",
    "print(seconds_per_hour)"
   ]
  },
  {
   "cell_type": "code",
   "execution_count": 9,
   "id": "c2e106a5",
   "metadata": {},
   "outputs": [
    {
     "name": "stdout",
     "output_type": "stream",
     "text": [
      "86400\n"
     ]
    }
   ],
   "source": [
    "# 3.3 \n",
    "\n",
    "# Calculate seconds per hour\n",
    "seconds_per_hour = 60 * 60\n",
    "\n",
    "# Calculate seconds per day and print result\n",
    "print(seconds_per_hour * 24)"
   ]
  },
  {
   "cell_type": "code",
   "execution_count": 10,
   "id": "54461f61",
   "metadata": {},
   "outputs": [
    {
     "name": "stdout",
     "output_type": "stream",
     "text": [
      "86400\n"
     ]
    }
   ],
   "source": [
    "# 3.4\n",
    "\n",
    "# Calculate seconds per hour\n",
    "seconds_per_hour = 60 * 60\n",
    "\n",
    "# Calculate seconds per day\n",
    "seconds_per_day = seconds_per_hour * 24\n",
    "\n",
    "# Print result\n",
    "print(seconds_per_day)"
   ]
  },
  {
   "cell_type": "code",
   "execution_count": 11,
   "id": "ddd6e369",
   "metadata": {},
   "outputs": [
    {
     "name": "stdout",
     "output_type": "stream",
     "text": [
      "24.0\n"
     ]
    }
   ],
   "source": [
    "# 3.5 \n",
    "\n",
    "# Calculate seconds per hour\n",
    "seconds_per_hour = 60 * 60\n",
    "\n",
    "# Calculate seconds per day\n",
    "seconds_per_day = seconds_per_hour * 24\n",
    "\n",
    "print(seconds_per_day / seconds_per_hour)"
   ]
  },
  {
   "cell_type": "code",
   "execution_count": 12,
   "id": "9edf5e06",
   "metadata": {},
   "outputs": [
    {
     "name": "stdout",
     "output_type": "stream",
     "text": [
      "24\n"
     ]
    }
   ],
   "source": [
    "# 3.6 \n",
    "\n",
    "# Calculate seconds per hour\n",
    "seconds_per_hour = 60 * 60\n",
    "\n",
    "# Calculate seconds per day\n",
    "seconds_per_day = seconds_per_hour * 24\n",
    "\n",
    "print(seconds_per_day // seconds_per_hour)\n",
    "\n",
    "# The result is the same as section 3.6 aside from the .0"
   ]
  },
  {
   "cell_type": "code",
   "execution_count": null,
   "id": "6df97371",
   "metadata": {},
   "outputs": [],
   "source": []
  }
 ],
 "metadata": {
  "kernelspec": {
   "display_name": "Python 3 (ipykernel)",
   "language": "python",
   "name": "python3"
  },
  "language_info": {
   "codemirror_mode": {
    "name": "ipython",
    "version": 3
   },
   "file_extension": ".py",
   "mimetype": "text/x-python",
   "name": "python",
   "nbconvert_exporter": "python",
   "pygments_lexer": "ipython3",
   "version": "3.11.5"
  }
 },
 "nbformat": 4,
 "nbformat_minor": 5
}
